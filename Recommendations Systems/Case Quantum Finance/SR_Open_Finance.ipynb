{
  "nbformat": 4,
  "nbformat_minor": 0,
  "metadata": {
    "colab": {
      "provenance": []
    },
    "kernelspec": {
      "name": "python3",
      "display_name": "Python 3"
    },
    "language_info": {
      "name": "python"
    }
  },
  "cells": [
    {
      "cell_type": "code",
      "source": [
        "!pip install surprise"
      ],
      "metadata": {
        "colab": {
          "base_uri": "https://localhost:8080/"
        },
        "id": "TwYY8NSlhz-j",
        "outputId": "f72f43b9-21ff-442c-9d33-84c928adaec3"
      },
      "execution_count": 1,
      "outputs": [
        {
          "output_type": "stream",
          "name": "stdout",
          "text": [
            "Requirement already satisfied: surprise in /usr/local/lib/python3.10/dist-packages (0.1)\n",
            "Requirement already satisfied: scikit-surprise in /usr/local/lib/python3.10/dist-packages (from surprise) (1.1.3)\n",
            "Requirement already satisfied: joblib>=1.0.0 in /usr/local/lib/python3.10/dist-packages (from scikit-surprise->surprise) (1.3.2)\n",
            "Requirement already satisfied: numpy>=1.17.3 in /usr/local/lib/python3.10/dist-packages (from scikit-surprise->surprise) (1.25.2)\n",
            "Requirement already satisfied: scipy>=1.3.2 in /usr/local/lib/python3.10/dist-packages (from scikit-surprise->surprise) (1.11.4)\n"
          ]
        }
      ]
    },
    {
      "cell_type": "code",
      "execution_count": 2,
      "metadata": {
        "id": "mBfzcEHEg5eL"
      },
      "outputs": [],
      "source": [
        "import pandas as pd\n",
        "from surprise import Dataset, Reader, KNNBasic\n",
        "import numpy as np"
      ]
    },
    {
      "cell_type": "code",
      "source": [
        "df_cliente = pd.DataFrame({'nomeCliente': ['Ana', 'Claudia', 'Marcos', 'Pedro']})\n",
        "df_produto = pd.DataFrame({'nomeProduto': ['Cartão de Crédito', 'Conta Corrente', 'Crédito Pessoal', 'Poupança', 'Renda Fixa', 'Renda Variável'], 'quantidadeLikes': [1, 3, 2, 0, 0, 0]})\n",
        "df_cliente_produto = pd.DataFrame({'nomeCliente': ['Ana', 'Ana', 'Ana', 'Ana', 'Ana', 'Marcos', 'Marcos', 'Marcos', 'Marcos', 'Marcos', 'Pedro', 'Pedro', 'Pedro', 'Pedro', 'Claudia', 'Claudia', 'Claudia'], 'nomeProduto': ['Cartão de Crédito', 'Conta Corrente', 'Crédito Pessoal', 'Poupança', 'Renda Fixa', 'Cartão de Crédito', 'Conta Corrente', 'Poupança', 'Renda Fixa', 'Renda Variável', 'Cartão de Crédito', 'Conta Corrente', 'Poupança', 'Crédito Pessoal', 'Cartão de Crédito', 'Conta Corrente', 'Poupança'], 'valor': [1, 2, 3, 4, 5, 2, 3, 4, 5, 0.6, 3, 4, 5, 7, 4, 5, 6]})\n"
      ],
      "metadata": {
        "id": "q1tEpxz6ixjr"
      },
      "execution_count": 3,
      "outputs": []
    },
    {
      "cell_type": "code",
      "source": [
        "# Filtragem Colaborativa\n",
        "leitor = Reader(rating_scale=(1, 5))\n",
        "dados = Dataset.load_from_df(df_cliente_produto[['nomeCliente', 'nomeProduto', 'valor']], leitor)\n",
        "\n",
        "# Inicializar o modelo KNN\n",
        "opcoes_sim = {'name': 'cosine', 'user_based': False}\n",
        "modelo = KNNBasic(sim_options=opcoes_sim)\n",
        "modelo.fit(dados.build_full_trainset())\n"
      ],
      "metadata": {
        "colab": {
          "base_uri": "https://localhost:8080/"
        },
        "id": "UJWcJ81mhn7e",
        "outputId": "175bb1ed-6647-4f80-fff5-ebc9c23ab66f"
      },
      "execution_count": 4,
      "outputs": [
        {
          "output_type": "stream",
          "name": "stdout",
          "text": [
            "Computing the cosine similarity matrix...\n",
            "Done computing similarity matrix.\n"
          ]
        },
        {
          "output_type": "execute_result",
          "data": {
            "text/plain": [
              "<surprise.prediction_algorithms.knns.KNNBasic at 0x7d2cf9823100>"
            ]
          },
          "metadata": {},
          "execution_count": 4
        }
      ]
    },
    {
      "cell_type": "code",
      "source": [
        "# Função para recomendações de Filtragem Colaborativa\n",
        "def recomendacoes_filtragem_colaborativa(id_usuario, modelo=modelo, df=df_cliente_produto):\n",
        "    itens_usuario = df[df['nomeCliente'] == id_usuario]['nomeProduto']\n",
        "    recomendacoes = []\n",
        "    for item in modelo.trainset.all_items():\n",
        "        if item not in itens_usuario:\n",
        "            vizinhos = modelo.get_neighbors(item, k=4)\n",
        "            recomendacoes.extend(vizinhos)\n",
        "    return recomendacoes\n"
      ],
      "metadata": {
        "id": "6mtGyoEFhpiF"
      },
      "execution_count": 5,
      "outputs": []
    },
    {
      "cell_type": "code",
      "source": [
        "# Fazer recomendações para a cliente \"Marcos\"\n",
        "usuario = 'Marcos'\n",
        "recomendacoes_cf = recomendacoes_filtragem_colaborativa(usuario)\n",
        "\n",
        "# Converter a lista de índices em um conjunto para eliminar itens duplicados\n",
        "recomendacoes_unicas = list(set(recomendacoes_cf))\n",
        "\n",
        "# Criar um DataFrame com os nomes e quantidades de likes dos produtos recomendados\n",
        "df_recomendacoes = df_produto.iloc[recomendacoes_unicas]\n",
        "\n",
        "# Filtrar as linhas que têm a quantidade de likes diferente de zero\n",
        "df_recomendacoes = df_recomendacoes[df_recomendacoes['quantidadeLikes'] > 0]\n",
        "\n",
        "# Ordenar os produtos recomendados pela quantidade de likes, de forma decrescente\n",
        "df_recomendacoes = df_recomendacoes.sort_values(by='quantidadeLikes', ascending=False)\n",
        "\n",
        "print(\"\\nRecomendações utilizando filtro colaborativo para o cliente:\" , usuario)\n",
        "print(\"\")\n",
        "print(df_recomendacoes)"
      ],
      "metadata": {
        "colab": {
          "base_uri": "https://localhost:8080/"
        },
        "id": "kW3CFvcohqpG",
        "outputId": "567a47b2-30dc-4fba-bdd4-f0808e38c1cb"
      },
      "execution_count": 6,
      "outputs": [
        {
          "output_type": "stream",
          "name": "stdout",
          "text": [
            "\n",
            "Recomendações utilizando filtro colaborativo para o cliente: Marcos\n",
            "\n",
            "         nomeProduto  quantidadeLikes\n",
            "1     Conta Corrente                3\n",
            "2    Crédito Pessoal                2\n",
            "0  Cartão de Crédito                1\n"
          ]
        }
      ]
    }
  ]
}