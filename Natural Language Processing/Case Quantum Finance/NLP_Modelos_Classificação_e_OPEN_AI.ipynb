{
  "cells": [
    {
      "cell_type": "markdown",
      "metadata": {
        "id": "VDbi6PDS9MYO"
      },
      "source": [
        "***Participantes (RM - NOME):***<br>\n",
        "FELIPE LEMOS SCUDELLER - 347942<br>\n",
        "FABIO MARCELO DE SOUZA - 347773<br>\n",
        "VICTOR GABRIEL DOS SANTOS GALVÃO - 348659<br>"
      ]
    },
    {
      "cell_type": "markdown",
      "metadata": {
        "id": "-weLSNH575yn"
      },
      "source": [
        "# **Apresentação do Desafio**"
      ]
    },
    {
      "cell_type": "markdown",
      "metadata": {
        "id": "7xw6WhaNo4k3"
      },
      "source": [
        "##**Contexto e Desafios**\n",
        "\n",
        "\n",
        "A **QuantumFinance** tem um canal de atendimento via chat e precisar classificar os assuntos dos atendimentos para melhorar as tratativas dos chamados dos clientes. O canal recebe textos abertos dos clientes relatando o problema e/ou dúvida e depois é direcionado para algum uma área especialista no assunto para uma melhor tratativa.\n",
        "O desafio de sua equipe é\n",
        "Parte 1 - Criar um modelo classificador de assuntos aplicando técnicas tradicionais de NLP, que consiga classificar através de um texto o assunto conforme disponível na base de dados [1] para treinamento e validação do modelo seu modelo.​\n",
        "Parte 2 – Realizar a tarefa de classificação apresentada no ítem anterior com a utilização IA Generativa, utilizando as técnicas de prompt engineering discutidas em sala\n",
        "Parte 3 (Extra) – Utilizar a IA Generativa para fazer uma classificação livre de assuntos e avaliar qualitativamente os resultados.\n",
        "Observação: Nas partes 2 e 3 do trabalho utilizar a base de dados estratificada disponibilizada em [2]. Esta amostra possui 200 registros de cada categoria. Este ajuste deve-se à limitação do número de tokens disponibilizados no modo gratuito da API da openAI. Para fazer o desenvolvimento de prompt, busque rodar com poucos exemplos e ir incrementando aos poucos, a medida em que vá melhorando.\n",
        "\n",
        "​[1] - https://raw.githubusercontent.com/thiagonogueira/datasets/main/tickets_reclamacoes_classificados_one_line.csv\n",
        "[2] - https://raw.githubusercontent.com/thiagonogueira/datasets/main/tickets_reclamacoes_classificados_one_line_generative.csv\n",
        "\n",
        "\n",
        "##**Entregáveis**\n",
        "\n",
        "**Jupyter Notebook:**\n",
        "\n",
        "O notebook deverá estar bem organizado com seções claras e textos que facilitem a compreensão da análise e decisões tomadas e que permita a obtenção do resultado final a partir do dataset disponibilizado. Utilize o notebook de template para a entrega.\n",
        "O modelo precisar atingir um score na métrica F1 Score superior a 75%. Utilize o dataset [1] para treinar e testar o modelo, separe o dataset em duas amostras (75% para treinamento e 25% para teste com o randon_state igual a 42).​\n",
        "Fique à vontade para testar e explorar as técnicas de pré-processamento, abordagens de NLP, algoritmos e bibliotecas, mas explique e justifique as suas decisões durante o desenvolvimento.​\n",
        "\n",
        "**Importante:**  parte significativa da avaliação do resultado será feita com a execução do notebook. Desta forma, é importante que todas as células executem corretamente e que os resultados sejam integralmente reprodutíveis;\n",
        "\n",
        "##**Notas e Grupos**\n",
        "\n",
        "**Notas:**\n",
        "\n",
        "Parte 1 (70%), sendo:\n",
        "\n",
        "35% - Demonstrações das aplicações das técnicas de PLN (regras, pré-processamentos, tratamentos, variedade de modelos aplicados, organização do pipeline, etc.)\n",
        "\n",
        "35% - Baseado na performance (score) obtida com a amostra de teste no pipeline do modelo campeão (validar com a Métrica F1 Score). Separar o pipeline completo do modelo campeão conforme template.​\n",
        "\n",
        "Parte 2 (30%)\n",
        "\n",
        "Parte 3 (Extra): Poderá acrescentar em até 2 pontos a nota do trabalho final.\n",
        "\n",
        "**Grupos:**\n",
        "\n",
        "O trabalho deverá ser feito, **necessariamente**, em grupo de 3 até 4 pessoas"
      ]
    },
    {
      "cell_type": "markdown",
      "metadata": {
        "id": "rnvX7FCf8CNJ"
      },
      "source": [
        "# **Entrega**"
      ]
    },
    {
      "cell_type": "markdown",
      "metadata": {
        "id": "wzcZxJ168HpC"
      },
      "source": [
        "## **Parte 1**"
      ]
    },
    {
      "cell_type": "code",
      "execution_count": 1,
      "metadata": {
        "colab": {
          "base_uri": "https://localhost:8080/"
        },
        "id": "kDDFjO863VkD",
        "outputId": "b9f9889f-6586-47e5-83e8-5a3d46701e88"
      },
      "outputs": [
        {
          "name": "stdout",
          "output_type": "stream",
          "text": [
            "Requirement already satisfied: pandas in /usr/local/lib/python3.10/dist-packages (1.5.3)\n",
            "Requirement already satisfied: numpy in /usr/local/lib/python3.10/dist-packages (1.25.2)\n",
            "Requirement already satisfied: matplotlib in /usr/local/lib/python3.10/dist-packages (3.7.1)\n",
            "Requirement already satisfied: seaborn in /usr/local/lib/python3.10/dist-packages (0.13.1)\n",
            "Collecting unidecode\n",
            "  Downloading Unidecode-1.3.8-py3-none-any.whl (235 kB)\n",
            "\u001b[2K     \u001b[90m━━━━━━━━━━━━━━━━━━━━━━━━━━━━━━━━━━━━━━━━\u001b[0m \u001b[32m235.5/235.5 kB\u001b[0m \u001b[31m4.4 MB/s\u001b[0m eta \u001b[36m0:00:00\u001b[0m\n",
            "\u001b[?25hRequirement already satisfied: nltk in /usr/local/lib/python3.10/dist-packages (3.8.1)\n",
            "Requirement already satisfied: scikit-learn in /usr/local/lib/python3.10/dist-packages (1.2.2)\n",
            "Requirement already satisfied: python-dateutil>=2.8.1 in /usr/local/lib/python3.10/dist-packages (from pandas) (2.8.2)\n",
            "Requirement already satisfied: pytz>=2020.1 in /usr/local/lib/python3.10/dist-packages (from pandas) (2023.4)\n",
            "Requirement already satisfied: contourpy>=1.0.1 in /usr/local/lib/python3.10/dist-packages (from matplotlib) (1.2.0)\n",
            "Requirement already satisfied: cycler>=0.10 in /usr/local/lib/python3.10/dist-packages (from matplotlib) (0.12.1)\n",
            "Requirement already satisfied: fonttools>=4.22.0 in /usr/local/lib/python3.10/dist-packages (from matplotlib) (4.49.0)\n",
            "Requirement already satisfied: kiwisolver>=1.0.1 in /usr/local/lib/python3.10/dist-packages (from matplotlib) (1.4.5)\n",
            "Requirement already satisfied: packaging>=20.0 in /usr/local/lib/python3.10/dist-packages (from matplotlib) (23.2)\n",
            "Requirement already satisfied: pillow>=6.2.0 in /usr/local/lib/python3.10/dist-packages (from matplotlib) (9.4.0)\n",
            "Requirement already satisfied: pyparsing>=2.3.1 in /usr/local/lib/python3.10/dist-packages (from matplotlib) (3.1.1)\n",
            "Requirement already satisfied: click in /usr/local/lib/python3.10/dist-packages (from nltk) (8.1.7)\n",
            "Requirement already satisfied: joblib in /usr/local/lib/python3.10/dist-packages (from nltk) (1.3.2)\n",
            "Requirement already satisfied: regex>=2021.8.3 in /usr/local/lib/python3.10/dist-packages (from nltk) (2023.12.25)\n",
            "Requirement already satisfied: tqdm in /usr/local/lib/python3.10/dist-packages (from nltk) (4.66.2)\n",
            "Requirement already satisfied: scipy>=1.3.2 in /usr/local/lib/python3.10/dist-packages (from scikit-learn) (1.11.4)\n",
            "Requirement already satisfied: threadpoolctl>=2.0.0 in /usr/local/lib/python3.10/dist-packages (from scikit-learn) (3.3.0)\n",
            "Requirement already satisfied: six>=1.5 in /usr/local/lib/python3.10/dist-packages (from python-dateutil>=2.8.1->pandas) (1.16.0)\n",
            "Installing collected packages: unidecode\n",
            "Successfully installed unidecode-1.3.8\n"
          ]
        }
      ],
      "source": [
        "!pip install pandas numpy matplotlib seaborn unidecode nltk scikit-learn"
      ]
    },
    {
      "cell_type": "code",
      "execution_count": 2,
      "metadata": {
        "colab": {
          "base_uri": "https://localhost:8080/"
        },
        "id": "fFqHS3NqgO-E",
        "outputId": "6d9d7e08-afe5-405c-ba29-f2fc7be0855a"
      },
      "outputs": [
        {
          "name": "stdout",
          "output_type": "stream",
          "text": [
            "Collecting openai==0.28\n",
            "  Downloading openai-0.28.0-py3-none-any.whl (76 kB)\n",
            "\u001b[?25l     \u001b[90m━━━━━━━━━━━━━━━━━━━━━━━━━━━━━━━━━━━━━━━━\u001b[0m \u001b[32m0.0/76.5 kB\u001b[0m \u001b[31m?\u001b[0m eta \u001b[36m-:--:--\u001b[0m\r\u001b[2K     \u001b[90m━━━━━━━━━━━━━━━━━━━━━━━━━━━━━━━━━━━━━━━━\u001b[0m \u001b[32m76.5/76.5 kB\u001b[0m \u001b[31m2.1 MB/s\u001b[0m eta \u001b[36m0:00:00\u001b[0m\n",
            "\u001b[?25hRequirement already satisfied: requests>=2.20 in /usr/local/lib/python3.10/dist-packages (from openai==0.28) (2.31.0)\n",
            "Requirement already satisfied: tqdm in /usr/local/lib/python3.10/dist-packages (from openai==0.28) (4.66.2)\n",
            "Requirement already satisfied: aiohttp in /usr/local/lib/python3.10/dist-packages (from openai==0.28) (3.9.3)\n",
            "Requirement already satisfied: charset-normalizer<4,>=2 in /usr/local/lib/python3.10/dist-packages (from requests>=2.20->openai==0.28) (3.3.2)\n",
            "Requirement already satisfied: idna<4,>=2.5 in /usr/local/lib/python3.10/dist-packages (from requests>=2.20->openai==0.28) (3.6)\n",
            "Requirement already satisfied: urllib3<3,>=1.21.1 in /usr/local/lib/python3.10/dist-packages (from requests>=2.20->openai==0.28) (2.0.7)\n",
            "Requirement already satisfied: certifi>=2017.4.17 in /usr/local/lib/python3.10/dist-packages (from requests>=2.20->openai==0.28) (2024.2.2)\n",
            "Requirement already satisfied: aiosignal>=1.1.2 in /usr/local/lib/python3.10/dist-packages (from aiohttp->openai==0.28) (1.3.1)\n",
            "Requirement already satisfied: attrs>=17.3.0 in /usr/local/lib/python3.10/dist-packages (from aiohttp->openai==0.28) (23.2.0)\n",
            "Requirement already satisfied: frozenlist>=1.1.1 in /usr/local/lib/python3.10/dist-packages (from aiohttp->openai==0.28) (1.4.1)\n",
            "Requirement already satisfied: multidict<7.0,>=4.5 in /usr/local/lib/python3.10/dist-packages (from aiohttp->openai==0.28) (6.0.5)\n",
            "Requirement already satisfied: yarl<2.0,>=1.0 in /usr/local/lib/python3.10/dist-packages (from aiohttp->openai==0.28) (1.9.4)\n",
            "Requirement already satisfied: async-timeout<5.0,>=4.0 in /usr/local/lib/python3.10/dist-packages (from aiohttp->openai==0.28) (4.0.3)\n",
            "Installing collected packages: openai\n",
            "Successfully installed openai-0.28.0\n"
          ]
        }
      ],
      "source": [
        "!pip install openai==0.28"
      ]
    },
    {
      "cell_type": "code",
      "execution_count": 3,
      "metadata": {
        "colab": {
          "base_uri": "https://localhost:8080/"
        },
        "id": "DMBI8SQtps1n",
        "outputId": "ac9f8e4d-4ab9-42b3-bf8c-71516e8e7113"
      },
      "outputs": [
        {
          "name": "stderr",
          "output_type": "stream",
          "text": [
            "[nltk_data] Downloading package stopwords to /root/nltk_data...\n",
            "[nltk_data]   Unzipping corpora/stopwords.zip.\n",
            "[nltk_data] Downloading package punkt to /root/nltk_data...\n",
            "[nltk_data]   Unzipping tokenizers/punkt.zip.\n"
          ]
        },
        {
          "data": {
            "text/plain": [
              "True"
            ]
          },
          "execution_count": 3,
          "metadata": {},
          "output_type": "execute_result"
        }
      ],
      "source": [
        "import pandas as pd\n",
        "import numpy as np\n",
        "import matplotlib.pyplot as plt\n",
        "import seaborn as sns\n",
        "import unidecode\n",
        "import string\n",
        "import nltk\n",
        "from nltk.corpus import stopwords\n",
        "from nltk.tokenize import word_tokenize\n",
        "from sklearn.model_selection import train_test_split\n",
        "from sklearn.feature_extraction.text import CountVectorizer\n",
        "from sklearn.svm import SVC\n",
        "from sklearn.ensemble import RandomForestClassifier, GradientBoostingClassifier\n",
        "from sklearn.naive_bayes import MultinomialNB\n",
        "from sklearn.metrics import accuracy_score, confusion_matrix, classification_report, f1_score\n",
        "from sklearn.pipeline import make_pipeline\n",
        "import openai\n",
        "import time\n",
        "import threading\n",
        "\n",
        "# Baixar stopwords\n",
        "nltk.download('stopwords')\n",
        "nltk.download('punkt')"
      ]
    },
    {
      "cell_type": "code",
      "execution_count": 4,
      "metadata": {
        "id": "a_SvpakPwGce"
      },
      "outputs": [],
      "source": [
        "def texto_preprocessado(texto):\n",
        "    # Função para pré-processar o texto:\n",
        "    # - Remove acentos\n",
        "    # - Converte para minúsculas\n",
        "    # - Remove pontuação\n",
        "    # - Tokenização\n",
        "    # - Remoção de stopwords\n",
        "    texto = unidecode.unidecode(texto)\n",
        "    texto = texto.lower()\n",
        "    texto = texto.translate(str.maketrans('', '', string.punctuation))\n",
        "    tokens = word_tokenize(texto, language='portuguese')\n",
        "    stop_words = set(stopwords.words('portuguese'))\n",
        "    tokens = [word for word in tokens if word not in stop_words]\n",
        "    texto = ' '.join(tokens)\n",
        "    return texto\n",
        "\n",
        "def preprocessar_treinar_melhor_modelo(X_train, y_train, X_test, y_test):\n",
        "    # Função para treinar vários modelos de classificação e escolher o melhor com base no F1-Score\n",
        "    # Colocado a função \"texto_preprocessado\" no argumento preprocessor\n",
        "    print(\"Dados foram preprocessados usando a função texto_preprocessado no argumento processor do CountVectorizer!\")\n",
        "    modelos = {\n",
        "        \"Naive Bayes\": make_pipeline(CountVectorizer(preprocessor=texto_preprocessado), MultinomialNB()),\n",
        "        \"Random Forest\": make_pipeline(CountVectorizer(preprocessor=texto_preprocessado), RandomForestClassifier(random_state=42)),\n",
        "        \"SVM - SVC\": make_pipeline(CountVectorizer(preprocessor=texto_preprocessado), SVC(random_state=42)),\n",
        "        \"Gradient Boosting\": make_pipeline(CountVectorizer(preprocessor=texto_preprocessado), GradientBoostingClassifier(random_state=42))\n",
        "    }\n",
        "\n",
        "    melhor_modelo = None\n",
        "    melhor_f1 = 0.0\n",
        "\n",
        "    print(\"Calculando F1-Score para escolher o melhor modelo\")\n",
        "\n",
        "    for nome_modelo, modelo in modelos.items():\n",
        "        modelo.fit(X_train, y_train)\n",
        "        y_pred = modelo.predict(X_test)\n",
        "        f1 = f1_score(y_test, y_pred, average='macro')  # Calcula o F1-Score\n",
        "        print(f\"F1-Score {nome_modelo}: {f1}\")\n",
        "\n",
        "        if f1 > melhor_f1:\n",
        "            melhor_f1 = f1\n",
        "            melhor_modelo = modelo\n",
        "\n",
        "    print(f\"Modelo campeão: {melhor_modelo.steps[1][0]} com F1-Score de {melhor_f1}\")\n",
        "    return melhor_modelo\n",
        "\n",
        "def avaliar_modelo(model, X_test, y_test):\n",
        "    # Função para avaliar o desempenho do modelo usando acurácia, matriz de confusão e classification report\n",
        "    prod = model.predict(X_test)\n",
        "    acc = accuracy_score(y_test, prod)\n",
        "    print(\"Acurácia do modelo:\", acc)\n",
        "    print(\"\")\n",
        "    cm = confusion_matrix(y_test, prod)\n",
        "    plt.figure(figsize=(8, 6))\n",
        "    sns.heatmap(cm, annot=True, fmt='d', cmap='Greys', cbar=False)\n",
        "    plt.title('Matriz de Confusão')\n",
        "    plt.xlabel('Predito')\n",
        "    plt.ylabel('Real')\n",
        "    plt.show()\n",
        "    print(\"\")\n",
        "    print(\"Classification Report:\")\n",
        "    print(classification_report(y_test, prod))"
      ]
    },
    {
      "cell_type": "code",
      "execution_count": 5,
      "metadata": {
        "id": "s__lBzDQwrcG"
      },
      "outputs": [],
      "source": [
        "# Carregar os dados\n",
        "df = pd.read_csv('https://raw.githubusercontent.com/thiagonogueira/datasets/main/tickets_reclamacoes_classificados_one_line.csv', delimiter=';')"
      ]
    },
    {
      "cell_type": "code",
      "execution_count": 6,
      "metadata": {
        "colab": {
          "base_uri": "https://localhost:8080/"
        },
        "id": "FFBhEX8onW-q",
        "outputId": "58f5a70c-c939-4c4c-a371-9a1139d5de77"
      },
      "outputs": [
        {
          "name": "stdout",
          "output_type": "stream",
          "text": [
            "<class 'pandas.core.frame.DataFrame'>\n",
            "RangeIndex: 21072 entries, 0 to 21071\n",
            "Data columns (total 4 columns):\n",
            " #   Column                Non-Null Count  Dtype \n",
            "---  ------                --------------  ----- \n",
            " 0   id_reclamacao         21072 non-null  int64 \n",
            " 1   data_abertura         21072 non-null  object\n",
            " 2   categoria             21072 non-null  object\n",
            " 3   descricao_reclamacao  21072 non-null  object\n",
            "dtypes: int64(1), object(3)\n",
            "memory usage: 658.6+ KB\n"
          ]
        }
      ],
      "source": [
        "df.info()"
      ]
    },
    {
      "cell_type": "code",
      "execution_count": 7,
      "metadata": {
        "colab": {
          "base_uri": "https://localhost:8080/"
        },
        "id": "ge_Us39TOWoc",
        "outputId": "5f41e533-bee5-42e0-a515-f7b5893e838b"
      },
      "outputs": [
        {
          "data": {
            "text/plain": [
              "0     Bom dia, meu nome é xxxx xxxx e agradeço se vo...\n",
              "1     Atualizei meu cartão xxxx xxxx em xx/xx/2018 e...\n",
              "2     O cartão Chase foi relatado em xx/xx/2019. No ...\n",
              "3     Em xx/xx/2018, enquanto tentava reservar um ti...\n",
              "4     Meu neto me dê cheque por {$ 1600,00} Eu depos...\n",
              "5                          Você pode remover a consulta\n",
              "6     Sem aviso prévio J.P. Morgan Chase restringiu ...\n",
              "7     Durante os meses de verão, experimento uma ren...\n",
              "8     Em xxxx xx/xx/2019, fiz um pagamento {$ 300.00...\n",
              "9     Eu tenho um cartão de crédito Chase que está r...\n",
              "10       Mishandling desta conta por Chase Auto e XXXX.\n",
              "11    Entrei em contato com o XXXX várias vezes na t...\n",
              "12    Abri uma conta no Chase Bank no xxxx e usei um...\n",
              "13    Para quem possa interessar, o Chase Bank cobro...\n",
              "14    Meu cartão Chase Amazon foi recusado para uma ...\n",
              "15    Abri a conta de poupança para o bônus {$ 25,00...\n",
              "16    Xxxx xxxx um sofá, assento de amor, mesa e cad...\n",
              "17    Meu cartão desapareceu e eu não percebi até ho...\n",
              "18    Chase me enviou um e -mail hoje com o título i...\n",
              "19    Fiz uma compra com xxxx xxxx xxxx em xx/xx/201...\n",
              "Name: descricao_reclamacao, dtype: object"
            ]
          },
          "execution_count": 7,
          "metadata": {},
          "output_type": "execute_result"
        }
      ],
      "source": [
        "df['descricao_reclamacao'][:20]"
      ]
    },
    {
      "cell_type": "code",
      "execution_count": 8,
      "metadata": {
        "id": "oILnVmSwwPVW"
      },
      "outputs": [],
      "source": [
        "# Dividir os dados em conjunto de treino e teste\n",
        "X_train, X_test, y_train, y_test = train_test_split(df['descricao_reclamacao'], df['categoria'], test_size = 0.25, random_state = 42)"
      ]
    },
    {
      "cell_type": "code",
      "execution_count": 9,
      "metadata": {
        "colab": {
          "base_uri": "https://localhost:8080/"
        },
        "id": "H-7ky8lYw__G",
        "outputId": "1ab3a8a2-af3a-4cd7-84a9-87fe47f601aa"
      },
      "outputs": [
        {
          "name": "stdout",
          "output_type": "stream",
          "text": [
            "Dados foram preprocessados usando a função texto_preprocessado no argumento processor do CountVectorizer!\n",
            "Calculando F1-Score para escolher o melhor modelo\n",
            "F1-Score Naive Bayes: 0.7977175706016025\n",
            "F1-Score Random Forest: 0.7842563247443859\n",
            "F1-Score SVM - SVC: 0.8779216077713267\n",
            "F1-Score Gradient Boosting: 0.8706750375633211\n",
            "Modelo campeão: svc com F1-Score de 0.8779216077713267\n"
          ]
        }
      ],
      "source": [
        "# Treinar modelo campeão\n",
        "modelo = preprocessar_treinar_melhor_modelo(X_train, y_train, X_test, y_test)"
      ]
    },
    {
      "cell_type": "markdown",
      "metadata": {
        "id": "NVj_6uCko7L8"
      },
      "source": [
        "Modelo Campeão com melhor F1 Score é o SVM - SVC"
      ]
    },
    {
      "cell_type": "code",
      "execution_count": 10,
      "metadata": {
        "colab": {
          "base_uri": "https://localhost:8080/",
          "height": 842
        },
        "id": "i_u_Q8eKwHra",
        "outputId": "e2a9dd43-93ca-41fb-f837-b99ae7407e9e"
      },
      "outputs": [
        {
          "name": "stdout",
          "output_type": "stream",
          "text": [
            "Acurácia do modelo: 0.8828777524677297\n",
            "\n"
          ]
        },
        {
          "data": {
            "image/png": "[encoded data removed]",
            "text/plain": [
              "<Figure size 800x600 with 1 Axes>"
            ]
          },
          "metadata": {},
          "output_type": "display_data"
        },
        {
          "name": "stdout",
          "output_type": "stream",
          "text": [
            "\n",
            "Classification Report:\n",
            "                                     precision    recall  f1-score   support\n",
            "\n",
            "Cartão de crédito / Cartão pré-pago       0.89      0.91      0.90      1290\n",
            "            Hipotecas / Empréstimos       0.89      0.90      0.90       922\n",
            "                             Outros       0.89      0.80      0.84       549\n",
            "       Roubo / Relatório de disputa       0.87      0.83      0.85      1204\n",
            "         Serviços de conta bancária       0.88      0.93      0.90      1303\n",
            "\n",
            "                           accuracy                           0.88      5268\n",
            "                          macro avg       0.88      0.87      0.88      5268\n",
            "                       weighted avg       0.88      0.88      0.88      5268\n",
            "\n"
          ]
        }
      ],
      "source": [
        "# Avaliar o modelo\n",
        "avaliar_modelo(modelo, X_test, y_test)"
      ]
    },
    {
      "cell_type": "markdown",
      "metadata": {
        "id": "O-J_Vxd2_LNw"
      },
      "source": [
        "Conforme exibido acima, o modelo escolhido possui mais que 75% para cada classe, atingindo a meta do modelo"
      ]
    },
    {
      "cell_type": "markdown",
      "metadata": {
        "id": "tHS9YyOF8PS5"
      },
      "source": [
        "## **Parte 2**"
      ]
    },
    {
      "cell_type": "code",
      "execution_count": 11,
      "metadata": {
        "id": "VNxuMzle19Rs"
      },
      "outputs": [],
      "source": [
        "# Definindo a chave da API OpenAI\n",
        "# Foi feito processamento em paralelo, devido a limitação do modelo de open ai que suporte até 1000 TPM\n",
        "openai.api_key = ''\n",
        "\n",
        "# Carregando o DataFrame\n",
        "df_gen = pd.read_csv('https://raw.githubusercontent.com/thiagonogueira/datasets/main/tickets_reclamacoes_classificados_one_line_generative.csv', delimiter=';')\n",
        "\n",
        "\n",
        "#Para não sobrecarregar a API com alto volume e termos gastos elevados, carregaremos apenas com 200 linhas\n",
        "df_gen = df_gen.head(200)"
      ]
    },
    {
      "cell_type": "code",
      "execution_count": 12,
      "metadata": {
        "colab": {
          "base_uri": "https://localhost:8080/"
        },
        "id": "x-eadTluoHkv",
        "outputId": "2685f29f-c23e-48f8-a040-f5d9433ddf66"
      },
      "outputs": [
        {
          "name": "stdout",
          "output_type": "stream",
          "text": [
            "<class 'pandas.core.frame.DataFrame'>\n",
            "RangeIndex: 200 entries, 0 to 199\n",
            "Data columns (total 4 columns):\n",
            " #   Column                Non-Null Count  Dtype \n",
            "---  ------                --------------  ----- \n",
            " 0   id_reclamacao         200 non-null    int64 \n",
            " 1   data_abertura         200 non-null    object\n",
            " 2   categoria             200 non-null    object\n",
            " 3   descricao_reclamacao  200 non-null    object\n",
            "dtypes: int64(1), object(3)\n",
            "memory usage: 6.4+ KB\n"
          ]
        }
      ],
      "source": [
        "df_gen.info()"
      ]
    },
    {
      "cell_type": "code",
      "execution_count": 13,
      "metadata": {
        "id": "nz1vgVhrFzfi"
      },
      "outputs": [],
      "source": [
        "def texto_preprocessado(texto):\n",
        "    # Função para pré-processar o texto:\n",
        "    # - Remove acentos\n",
        "    # - Converte para minúsculos\n",
        "    # - Remove pontuação\n",
        "    # - Tokenização\n",
        "    # - Remoção de stopwords\n",
        "    texto = unidecode.unidecode(texto)\n",
        "    texto = texto.lower()\n",
        "    texto = texto.translate(str.maketrans('', '', string.punctuation))\n",
        "    tokens = word_tokenize(texto, language='portuguese')\n",
        "    stop_words = set(stopwords.words('portuguese'))\n",
        "    tokens = [word for word in tokens if word not in stop_words]\n",
        "    texto = ' '.join(tokens)\n",
        "    return texto"
      ]
    },
    {
      "cell_type": "code",
      "execution_count": 14,
      "metadata": {
        "id": "4nb_qmVGczTU"
      },
      "outputs": [],
      "source": [
        "def lidar_openai_requests_batch(prompts_batch):\n",
        "    respostas_batch = []\n",
        "    try:\n",
        "        for prompt in prompts_batch:\n",
        "            # Solicitando classificação para o prompt atual\n",
        "            response = openai.ChatCompletion.create(\n",
        "                model=\"gpt-3.5-turbo\",\n",
        "                messages=[{\"role\": \"user\", \"content\": prompt}],\n",
        "                temperature=0.3,\n",
        "                max_tokens=30\n",
        "            )\n",
        "            # Adicionando a resposta à lista de respostas\n",
        "            respostas_batch.append(response['choices'][0]['message']['content'])\n",
        "\n",
        "    except Exception as e:\n",
        "        print(f\"Erro durante a solicitação: {e}\")\n",
        "    return respostas_batch"
      ]
    },
    {
      "cell_type": "code",
      "execution_count": 15,
      "metadata": {
        "id": "BV1lS_MYl1O2"
      },
      "outputs": [],
      "source": [
        "def processo_prompt_engeneering(descricao_reclamacao):\n",
        "    # Prefixo que define o papel do modelo como classificador de reclamações\n",
        "    prefixo = \"O papel do modelo é classificar reclamações de clientes. Dada a seguinte reclamação:\"\n",
        "\n",
        "    # Descrição da reclamação\n",
        "    reclamacao = f\"'{descricao_reclamacao}'\"\n",
        "\n",
        "    # Opções de categorias para classificação\n",
        "    categorias = \"Cartão de crédito / Cartão pré-pago, Hipotecas / Empréstimos, Roubo / Relatório de disputa, Serviços de conta bancária, Outros\"\n",
        "\n",
        "    # Prompt completo com o prefixo, descrição da reclamação e opções de categorias\n",
        "    prompt = f\"{prefixo} {reclamacao}, classifique-a em uma das seguintes categorias: {categorias}.\"\n",
        "\n",
        "    return prompt"
      ]
    },
    {
      "cell_type": "code",
      "execution_count": 16,
      "metadata": {
        "id": "_x1jnQpYSi6k"
      },
      "outputs": [],
      "source": [
        "def processar_lotes(df, start_index, end_index, all_responses_classificados):\n",
        "    df_batch = df_gen.iloc[start_index:end_index]\n",
        "    print(f\"Processando índices {start_index} a {end_index - 1}\")\n",
        "    # Construir o prompt com contexto e instruções para categorias específicas\n",
        "    prompts_batch = []\n",
        "    for index, row in df_batch.iterrows():\n",
        "        descricao_reclamacao = row['descricao_reclamacao']\n",
        "        prompt = processo_prompt_engeneering(descricao_reclamacao)\n",
        "        prompts_batch.append(prompt)\n",
        "\n",
        "    responses_classificados = lidar_openai_requests_batch(prompts_batch)\n",
        "\n",
        "    # Processamento das respostas para remover pontos finais das classes devido a peculiaridade do Modelo\n",
        "    respostas_sem_ponto_final = [resposta.rstrip('.') for resposta in responses_classificados]\n",
        "\n",
        "    # Adicionar as respostas classificadas à lista global\n",
        "    all_responses_classificados.extend(respostas_sem_ponto_final)"
      ]
    },
    {
      "cell_type": "code",
      "execution_count": 17,
      "metadata": {
        "id": "UpFTiY17l5n3"
      },
      "outputs": [],
      "source": [
        "def processar_lotes_em_paralelo(df, batch_size):\n",
        "    all_responses_classificados = []  # Lista para armazenar todas as respostas classificadas\n",
        "    threads = []\n",
        "    for i in range(0, len(df), batch_size):\n",
        "        end_index = min(i + batch_size, len(df))\n",
        "        df_batch = df.iloc[i:end_index]  # Obtém o lote atual do DataFrame\n",
        "        thread = threading.Thread(target=processar_lotes, args=(df_batch, i, end_index, all_responses_classificados))\n",
        "        thread.start()\n",
        "        threads.append(thread)\n",
        "        time.sleep(60)  # Adicione um atraso entre as threads para evitar atingir o limite de solicitações por minuto\n",
        "\n",
        "    for thread in threads:\n",
        "        thread.join()\n",
        "\n",
        "    print(\"Processamento concluído.\")\n",
        "\n",
        "    return all_responses_classificados"
      ]
    },
    {
      "cell_type": "code",
      "execution_count": 18,
      "metadata": {
        "id": "OXQqRvyTGYhm"
      },
      "outputs": [],
      "source": [
        "# Pré-processamento da coluna descricao_reclamacao do DataFrame df_gen\n",
        "df_gen['descricao_reclamacao'] = df_gen['descricao_reclamacao'].apply(texto_preprocessado)"
      ]
    },
    {
      "cell_type": "code",
      "execution_count": 19,
      "metadata": {
        "colab": {
          "base_uri": "https://localhost:8080/"
        },
        "id": "d55KOu_xaP1E",
        "outputId": "9d369a95-62fe-484b-c893-e3420b5480aa"
      },
      "outputs": [
        {
          "name": "stdout",
          "output_type": "stream",
          "text": [
            "Processando índices 0 a 99\n",
            "Processando índices 100 a 199\n",
            "Processamento concluído.\n"
          ]
        }
      ],
      "source": [
        "# Chamada para iniciar o processamento em paralelo e obter todas as respostas classificadas\n",
        "batch_size =100\n",
        "respostas_classificadas_saida = processar_lotes_em_paralelo(df_gen, batch_size) ## Dataframe e Bach_size são os argumentos"
      ]
    },
    {
      "cell_type": "code",
      "execution_count": 20,
      "metadata": {
        "colab": {
          "base_uri": "https://localhost:8080/"
        },
        "id": "EWrkcM04HoiN",
        "outputId": "ec327b92-c829-49be-c618-0989f51d85a2"
      },
      "outputs": [
        {
          "data": {
            "text/plain": [
              "['Serviços de conta bancária',\n",
              " 'Cartão de crédito / Cartão pré-pago',\n",
              " 'Roubo / Relatório de disputa',\n",
              " 'Roubo / Relatório de disputa',\n",
              " 'Roubo / Relatório de disputa']"
            ]
          },
          "execution_count": 20,
          "metadata": {},
          "output_type": "execute_result"
        }
      ],
      "source": [
        "respostas_classificadas_saida[:5]"
      ]
    },
    {
      "cell_type": "code",
      "execution_count": 21,
      "metadata": {
        "id": "EUs_pjlEdArs"
      },
      "outputs": [],
      "source": [
        "df_gen['categoria_open_ai'] = respostas_classificadas_saida"
      ]
    },
    {
      "cell_type": "code",
      "execution_count": 22,
      "metadata": {
        "colab": {
          "base_uri": "https://localhost:8080/",
          "height": 424
        },
        "id": "OCjHJtl98T3m",
        "outputId": "2a6191b2-e63b-42f4-e332-d3608f569fd8"
      },
      "outputs": [
        {
          "data": {
            "application/vnd.google.colaboratory.intrinsic+json": {
              "summary": "{\n  \"name\": \"df_gen[['categoria_open_ai','descricao_reclamacao']]\",\n  \"rows\": 200,\n  \"fields\": [\n    {\n      \"column\": \"categoria_open_ai\",\n      \"properties\": {\n        \"dtype\": \"category\",\n        \"num_unique_values\": 5,\n        \"samples\": [\n          \"Cart\\u00e3o de cr\\u00e9dito / Cart\\u00e3o pr\\u00e9-pago\",\n          \"Relat\\u00f3rio de disputa\",\n          \"Roubo / Relat\\u00f3rio de disputa\"\n        ],\n        \"semantic_type\": \"\",\n        \"description\": \"\"\n      }\n    },\n    {\n      \"column\": \"descricao_reclamacao\",\n      \"properties\": {\n        \"dtype\": \"string\",\n        \"num_unique_values\": 200,\n        \"samples\": [\n          \"detentor conta chase cartao credito chase freedom unlimited portal on line fazer login recebi oferta direcionada cartao credito chase freedom oferta declarada grandes letras porque voce cliente perseguicao basta fornecer informacoes abaixo tomar decisao segundos forneci informacoes necessarias enviei inscricao chase puxou cartao credito chase posteriormente nao apenas nao apenas nao fez forneca decisao rapida sobre aplicativo manteve pendente ate ligar xxxx2018 pois nao ouvi nenhum feedback adicional alem aplicativo pendente liguei disseram precisava provar inscreveu fornecendo copia cartao original seguro social ofereci fornecer copia ssn atraves xxxx formularios fiscais pois prontamente disponiveis negado apenas copia cartao ssn original suficiente chase bank inscrevi atraves portal chase identidade deveria ter sido imediatamente verificada conectei sucesso preparei aplicativo grande inconveniente mim pois nao aplicado soubesse chase nao nao ntendenhando honrar declaracao porque voce cliente perseguicao basta fornecer informacoes abaixo tomar decisao segundos agora ir escritorio seguranca social obter copia cartao seguranca social porque nao prontamente disponivel verificacao alternativa chase nao suficiente acredito pratica comercial injustaenganosa chase bank acredito anuncio direcionado intencionalmente enganoso mim cliente atual chase bank\",\n          \"xxxx2018 sr xxxx negado aumento limite credito razoes nao relevantes xxxx2018 aumento limite credito aprovado acabou sendo concedido violacao direta lei oportunidade credito igual ecoa conforme declarado secao iv conformidade fdic 11 credor nao pode recusar estender credito usar padroes diferentes determinar deve estender credito xxxx2018 concedido limite credito limite credito xxxx2018a\",\n          \"agradecemos voce reserve tempo dia ocupado aconselhar sobre pequeno detalhe 2013 pagamos saldo cartao credito menor 10000 30 dias atrasado agora partir quatro anos atraso pagamento permanece unico pagamento atrasado todo historico credito abrangendo decadas 100s credores impacto negativo desse incidente singular isolado credito custo seguro custo emprestimos vai alem qualquer penalidade razoavel infracao tao menor alem disso relato continuo desta questao nao contribui nada objetivo pretendido tais relatorios exposicao maior risco associado uso credito fizemos varias tentativas longo desses anos solicitar assistencia chase cada vez recebendo razao diferente propositalmente ambigua incapacidade fazer sentido nao sentido voce tempo voce gentilmente forneceria orientacao sobre podemos resolver melhor problema chase executive office xxxx oh xxxx stop oh xxxx obrigado xxxx\"\n        ],\n        \"semantic_type\": \"\",\n        \"description\": \"\"\n      }\n    }\n  ]\n}",
              "type": "dataframe"
            },
            "text/html": [
              "\n",
              "  <div id=\"df-05b8b926-0f2a-4899-b4c2-fd8c38d0b73a\" class=\"colab-df-container\">\n",
              "    <div>\n",
              "<style scoped>\n",
              "    .dataframe tbody tr th:only-of-type {\n",
              "        vertical-align: middle;\n",
              "    }\n",
              "\n",
              "    .dataframe tbody tr th {\n",
              "        vertical-align: top;\n",
              "    }\n",
              "\n",
              "    .dataframe thead th {\n",
              "        text-align: right;\n",
              "    }\n",
              "</style>\n",
              "<table border=\"1\" class=\"dataframe\">\n",
              "  <thead>\n",
              "    <tr style=\"text-align: right;\">\n",
              "      <th></th>\n",
              "      <th>categoria_open_ai</th>\n",
              "      <th>descricao_reclamacao</th>\n",
              "    </tr>\n",
              "  </thead>\n",
              "  <tbody>\n",
              "    <tr>\n",
              "      <th>0</th>\n",
              "      <td>Serviços de conta bancária</td>\n",
              "      <td>chase afirma enviaram carta xxxxxxxx dizendo f...</td>\n",
              "    </tr>\n",
              "    <tr>\n",
              "      <th>1</th>\n",
              "      <td>Cartão de crédito / Cartão pré-pago</td>\n",
              "      <td>xxxxxxxx tentei usar chase xxxx recusado inves...</td>\n",
              "    </tr>\n",
              "    <tr>\n",
              "      <th>2</th>\n",
              "      <td>Roubo / Relatório de disputa</td>\n",
              "      <td>jpmcb inquerito servico cartao cartao credito ...</td>\n",
              "    </tr>\n",
              "    <tr>\n",
              "      <th>3</th>\n",
              "      <td>Roubo / Relatório de disputa</td>\n",
              "      <td>chase bank relatou agencias credito pagamento ...</td>\n",
              "    </tr>\n",
              "    <tr>\n",
              "      <th>4</th>\n",
              "      <td>Roubo / Relatório de disputa</td>\n",
              "      <td>comecando xxxx2016 vitima empresas opcoes bina...</td>\n",
              "    </tr>\n",
              "    <tr>\n",
              "      <th>...</th>\n",
              "      <td>...</td>\n",
              "      <td>...</td>\n",
              "    </tr>\n",
              "    <tr>\n",
              "      <th>195</th>\n",
              "      <td>Roubo / Relatório de disputa</td>\n",
              "      <td>chase bank sobre consultas duras xxxxxxxx xxxx...</td>\n",
              "    </tr>\n",
              "    <tr>\n",
              "      <th>196</th>\n",
              "      <td>Cartão de crédito / Cartão pré-pago</td>\n",
              "      <td>empresa nao indicou fecharia cartao xxxx 2017 ...</td>\n",
              "    </tr>\n",
              "    <tr>\n",
              "      <th>197</th>\n",
              "      <td>Cartão de crédito / Cartão pré-pago</td>\n",
              "      <td>chase bank xxxx ca xxxx xxxx2017 solicitar car...</td>\n",
              "    </tr>\n",
              "    <tr>\n",
              "      <th>198</th>\n",
              "      <td>Roubo / Relatório de disputa</td>\n",
              "      <td>agencia ainda conta esposa listada arquivo cre...</td>\n",
              "    </tr>\n",
              "    <tr>\n",
              "      <th>199</th>\n",
              "      <td>Roubo / Relatório de disputa</td>\n",
              "      <td>servicos chase cardmember continuam relatar in...</td>\n",
              "    </tr>\n",
              "  </tbody>\n",
              "</table>\n",
              "<p>200 rows × 2 columns</p>\n",
              "</div>\n",
              "    <div class=\"colab-df-buttons\">\n",
              "\n",
              "  <div class=\"colab-df-container\">\n",
              "    <button class=\"colab-df-convert\" onclick=\"convertToInteractive('df-05b8b926-0f2a-4899-b4c2-fd8c38d0b73a')\"\n",
              "            title=\"Convert this dataframe to an interactive table.\"\n",
              "            style=\"display:none;\">\n",
              "\n",
              "  <svg xmlns=\"http://www.w3.org/2000/svg\" height=\"24px\" viewBox=\"0 -960 960 960\">\n",
              "    <path d=\"M120-120v-720h720v720H120Zm60-500h600v-160H180v160Zm220 220h160v-160H400v160Zm0 220h160v-160H400v160ZM180-400h160v-160H180v160Zm440 0h160v-160H620v160ZM180-180h160v-160H180v160Zm440 0h160v-160H620v160Z\"/>\n",
              "  </svg>\n",
              "    </button>\n",
              "\n",
              "  <style>\n",
              "    .colab-df-container {\n",
              "      display:flex;\n",
              "      gap: 12px;\n",
              "    }\n",
              "\n",
              "    .colab-df-convert {\n",
              "      background-color: #E8F0FE;\n",
              "      border: none;\n",
              "      border-radius: 50%;\n",
              "      cursor: pointer;\n",
              "      display: none;\n",
              "      fill: #1967D2;\n",
              "      height: 32px;\n",
              "      padding: 0 0 0 0;\n",
              "      width: 32px;\n",
              "    }\n",
              "\n",
              "    .colab-df-convert:hover {\n",
              "      background-color: #E2EBFA;\n",
              "      box-shadow: 0px 1px 2px rgba(60, 64, 67, 0.3), 0px 1px 3px 1px rgba(60, 64, 67, 0.15);\n",
              "      fill: #174EA6;\n",
              "    }\n",
              "\n",
              "    .colab-df-buttons div {\n",
              "      margin-bottom: 4px;\n",
              "    }\n",
              "\n",
              "    [theme=dark] .colab-df-convert {\n",
              "      background-color: #3B4455;\n",
              "      fill: #D2E3FC;\n",
              "    }\n",
              "\n",
              "    [theme=dark] .colab-df-convert:hover {\n",
              "      background-color: #434B5C;\n",
              "      box-shadow: 0px 1px 3px 1px rgba(0, 0, 0, 0.15);\n",
              "      filter: drop-shadow(0px 1px 2px rgba(0, 0, 0, 0.3));\n",
              "      fill: #FFFFFF;\n",
              "    }\n",
              "  </style>\n",
              "\n",
              "    <script>\n",
              "      const buttonEl =\n",
              "        document.querySelector('#df-05b8b926-0f2a-4899-b4c2-fd8c38d0b73a button.colab-df-convert');\n",
              "      buttonEl.style.display =\n",
              "        google.colab.kernel.accessAllowed ? 'block' : 'none';\n",
              "\n",
              "      async function convertToInteractive(key) {\n",
              "        const element = document.querySelector('#df-05b8b926-0f2a-4899-b4c2-fd8c38d0b73a');\n",
              "        const dataTable =\n",
              "          await google.colab.kernel.invokeFunction('convertToInteractive',\n",
              "                                                    [key], {});\n",
              "        if (!dataTable) return;\n",
              "\n",
              "        const docLinkHtml = 'Like what you see? Visit the ' +\n",
              "          '<a target=\"_blank\" href=https://colab.research.google.com/notebooks/data_table.ipynb>data table notebook</a>'\n",
              "          + ' to learn more about interactive tables.';\n",
              "        element.innerHTML = '';\n",
              "        dataTable['output_type'] = 'display_data';\n",
              "        await google.colab.output.renderOutput(dataTable, element);\n",
              "        const docLink = document.createElement('div');\n",
              "        docLink.innerHTML = docLinkHtml;\n",
              "        element.appendChild(docLink);\n",
              "      }\n",
              "    </script>\n",
              "  </div>\n",
              "\n",
              "\n",
              "<div id=\"df-db294f7a-9691-42ec-be46-20fd6c2e89d6\">\n",
              "  <button class=\"colab-df-quickchart\" onclick=\"quickchart('df-db294f7a-9691-42ec-be46-20fd6c2e89d6')\"\n",
              "            title=\"Suggest charts\"\n",
              "            style=\"display:none;\">\n",
              "\n",
              "<svg xmlns=\"http://www.w3.org/2000/svg\" height=\"24px\"viewBox=\"0 0 24 24\"\n",
              "     width=\"24px\">\n",
              "    <g>\n",
              "        <path d=\"M19 3H5c-1.1 0-2 .9-2 2v14c0 1.1.9 2 2 2h14c1.1 0 2-.9 2-2V5c0-1.1-.9-2-2-2zM9 17H7v-7h2v7zm4 0h-2V7h2v10zm4 0h-2v-4h2v4z\"/>\n",
              "    </g>\n",
              "</svg>\n",
              "  </button>\n",
              "\n",
              "<style>\n",
              "  .colab-df-quickchart {\n",
              "      --bg-color: #E8F0FE;\n",
              "      --fill-color: #1967D2;\n",
              "      --hover-bg-color: #E2EBFA;\n",
              "      --hover-fill-color: #174EA6;\n",
              "      --disabled-fill-color: #AAA;\n",
              "      --disabled-bg-color: #DDD;\n",
              "  }\n",
              "\n",
              "  [theme=dark] .colab-df-quickchart {\n",
              "      --bg-color: #3B4455;\n",
              "      --fill-color: #D2E3FC;\n",
              "      --hover-bg-color: #434B5C;\n",
              "      --hover-fill-color: #FFFFFF;\n",
              "      --disabled-bg-color: #3B4455;\n",
              "      --disabled-fill-color: #666;\n",
              "  }\n",
              "\n",
              "  .colab-df-quickchart {\n",
              "    background-color: var(--bg-color);\n",
              "    border: none;\n",
              "    border-radius: 50%;\n",
              "    cursor: pointer;\n",
              "    display: none;\n",
              "    fill: var(--fill-color);\n",
              "    height: 32px;\n",
              "    padding: 0;\n",
              "    width: 32px;\n",
              "  }\n",
              "\n",
              "  .colab-df-quickchart:hover {\n",
              "    background-color: var(--hover-bg-color);\n",
              "    box-shadow: 0 1px 2px rgba(60, 64, 67, 0.3), 0 1px 3px 1px rgba(60, 64, 67, 0.15);\n",
              "    fill: var(--button-hover-fill-color);\n",
              "  }\n",
              "\n",
              "  .colab-df-quickchart-complete:disabled,\n",
              "  .colab-df-quickchart-complete:disabled:hover {\n",
              "    background-color: var(--disabled-bg-color);\n",
              "    fill: var(--disabled-fill-color);\n",
              "    box-shadow: none;\n",
              "  }\n",
              "\n",
              "  .colab-df-spinner {\n",
              "    border: 2px solid var(--fill-color);\n",
              "    border-color: transparent;\n",
              "    border-bottom-color: var(--fill-color);\n",
              "    animation:\n",
              "      spin 1s steps(1) infinite;\n",
              "  }\n",
              "\n",
              "  @keyframes spin {\n",
              "    0% {\n",
              "      border-color: transparent;\n",
              "      border-bottom-color: var(--fill-color);\n",
              "      border-left-color: var(--fill-color);\n",
              "    }\n",
              "    20% {\n",
              "      border-color: transparent;\n",
              "      border-left-color: var(--fill-color);\n",
              "      border-top-color: var(--fill-color);\n",
              "    }\n",
              "    30% {\n",
              "      border-color: transparent;\n",
              "      border-left-color: var(--fill-color);\n",
              "      border-top-color: var(--fill-color);\n",
              "      border-right-color: var(--fill-color);\n",
              "    }\n",
              "    40% {\n",
              "      border-color: transparent;\n",
              "      border-right-color: var(--fill-color);\n",
              "      border-top-color: var(--fill-color);\n",
              "    }\n",
              "    60% {\n",
              "      border-color: transparent;\n",
              "      border-right-color: var(--fill-color);\n",
              "    }\n",
              "    80% {\n",
              "      border-color: transparent;\n",
              "      border-right-color: var(--fill-color);\n",
              "      border-bottom-color: var(--fill-color);\n",
              "    }\n",
              "    90% {\n",
              "      border-color: transparent;\n",
              "      border-bottom-color: var(--fill-color);\n",
              "    }\n",
              "  }\n",
              "</style>\n",
              "\n",
              "  <script>\n",
              "    async function quickchart(key) {\n",
              "      const quickchartButtonEl =\n",
              "        document.querySelector('#' + key + ' button');\n",
              "      quickchartButtonEl.disabled = true;  // To prevent multiple clicks.\n",
              "      quickchartButtonEl.classList.add('colab-df-spinner');\n",
              "      try {\n",
              "        const charts = await google.colab.kernel.invokeFunction(\n",
              "            'suggestCharts', [key], {});\n",
              "      } catch (error) {\n",
              "        console.error('Error during call to suggestCharts:', error);\n",
              "      }\n",
              "      quickchartButtonEl.classList.remove('colab-df-spinner');\n",
              "      quickchartButtonEl.classList.add('colab-df-quickchart-complete');\n",
              "    }\n",
              "    (() => {\n",
              "      let quickchartButtonEl =\n",
              "        document.querySelector('#df-db294f7a-9691-42ec-be46-20fd6c2e89d6 button');\n",
              "      quickchartButtonEl.style.display =\n",
              "        google.colab.kernel.accessAllowed ? 'block' : 'none';\n",
              "    })();\n",
              "  </script>\n",
              "</div>\n",
              "\n",
              "    </div>\n",
              "  </div>\n"
            ],
            "text/plain": [
              "                       categoria_open_ai  \\\n",
              "0             Serviços de conta bancária   \n",
              "1    Cartão de crédito / Cartão pré-pago   \n",
              "2           Roubo / Relatório de disputa   \n",
              "3           Roubo / Relatório de disputa   \n",
              "4           Roubo / Relatório de disputa   \n",
              "..                                   ...   \n",
              "195         Roubo / Relatório de disputa   \n",
              "196  Cartão de crédito / Cartão pré-pago   \n",
              "197  Cartão de crédito / Cartão pré-pago   \n",
              "198         Roubo / Relatório de disputa   \n",
              "199         Roubo / Relatório de disputa   \n",
              "\n",
              "                                  descricao_reclamacao  \n",
              "0    chase afirma enviaram carta xxxxxxxx dizendo f...  \n",
              "1    xxxxxxxx tentei usar chase xxxx recusado inves...  \n",
              "2    jpmcb inquerito servico cartao cartao credito ...  \n",
              "3    chase bank relatou agencias credito pagamento ...  \n",
              "4    comecando xxxx2016 vitima empresas opcoes bina...  \n",
              "..                                                 ...  \n",
              "195  chase bank sobre consultas duras xxxxxxxx xxxx...  \n",
              "196  empresa nao indicou fecharia cartao xxxx 2017 ...  \n",
              "197  chase bank xxxx ca xxxx xxxx2017 solicitar car...  \n",
              "198  agencia ainda conta esposa listada arquivo cre...  \n",
              "199  servicos chase cardmember continuam relatar in...  \n",
              "\n",
              "[200 rows x 2 columns]"
            ]
          },
          "execution_count": 22,
          "metadata": {},
          "output_type": "execute_result"
        }
      ],
      "source": [
        "df_gen[['categoria_open_ai','descricao_reclamacao']]"
      ]
    },
    {
      "cell_type": "code",
      "execution_count": 23,
      "metadata": {
        "colab": {
          "base_uri": "https://localhost:8080/"
        },
        "id": "FZCzk7D48mck",
        "outputId": "e12d9e3b-af72-4b30-a858-3352a7b267a9"
      },
      "outputs": [
        {
          "data": {
            "text/plain": [
              "Cartão de crédito / Cartão pré-pago    88\n",
              "Roubo / Relatório de disputa           84\n",
              "Serviços de conta bancária             18\n",
              "Hipotecas / Empréstimos                 9\n",
              "Relatório de disputa                    1\n",
              "Name: categoria_open_ai, dtype: int64"
            ]
          },
          "execution_count": 23,
          "metadata": {},
          "output_type": "execute_result"
        }
      ],
      "source": [
        "df_gen['categoria_open_ai'].value_counts()"
      ]
    },
    {
      "cell_type": "markdown",
      "metadata": {
        "id": "gtHtvaPWjqJ7"
      },
      "source": [
        "Classificação gerada pelo OPEN AI e alocada na coluna \"categoria_openai\" do dataframe"
      ]
    }
  ],
  "metadata": {
    "colab": {
      "provenance": []
    },
    "kernelspec": {
      "display_name": "Python 3",
      "name": "python3"
    }
  },
  "nbformat": 4,
  "nbformat_minor": 0
}
