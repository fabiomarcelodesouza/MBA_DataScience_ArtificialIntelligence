{
  "nbformat": 4,
  "nbformat_minor": 0,
  "metadata": {
    "colab": {
      "provenance": []
    },
    "kernelspec": {
      "name": "python3",
      "display_name": "Python 3"
    },
    "language_info": {
      "name": "python"
    }
  },
  "cells": [
    {
      "cell_type": "markdown",
      "source": [
        "#Instruções"
      ],
      "metadata": {
        "id": "53QBKhs2X0CI"
      }
    },
    {
      "cell_type": "markdown",
      "source": [
        "O dataset utilizado para as fotos dos ferimentos/pintas se encontra no link : https://www.dropbox.com/s/8o4ysiccspp46ov/skin-cancer-mnist-ham10000.zip?e=1&dl=0\n",
        "\n",
        "Siga as seguintes instruções abaixo:\n",
        "\n",
        "1 - Extraia o dataset no seu Google drive e substitua seu diretorio na variavel raw_files_folder.\n",
        "\n",
        "2 - Criar as pastas Imagens_treino,Imagens_teste,Imagens_valid.\n",
        "\n",
        "3 - As variaveis train_folder_id,test_folder_id e validation_folder_id são nome de pastas criadas para receber imagens misturadas de forma pseudoaletoria, mantenha as strings dessas variaveis ."
      ],
      "metadata": {
        "id": "MS6OydlcX9D0"
      }
    },
    {
      "cell_type": "markdown",
      "source": [
        "#Instalar Libs"
      ],
      "metadata": {
        "id": "0Oe2Da_vpAn8"
      }
    },
    {
      "cell_type": "code",
      "source": [
        "import os\n",
        "import random\n",
        "from shutil import copyfile\n",
        "import numpy as np\n",
        "from PIL import Image\n",
        "from tensorflow.keras.utils import to_categorical\n",
        "import pandas as pd\n",
        "import matplotlib.pyplot as plt\n",
        "\n",
        "from tensorflow import keras\n",
        "from keras.models import Sequential, load_model\n",
        "from keras.layers import Dense\n",
        "from keras.layers import Dropout\n",
        "from keras.layers import Flatten\n",
        "from keras.layers import Conv2D\n",
        "from keras.layers import MaxPooling2D"
      ],
      "metadata": {
        "id": "xXnKxl0zQqgO"
      },
      "execution_count": null,
      "outputs": []
    },
    {
      "cell_type": "markdown",
      "source": [
        "#Conectar no Google e Variaveis iniciais"
      ],
      "metadata": {
        "id": "9C4n4Wc1TL0V"
      }
    },
    {
      "cell_type": "code",
      "source": [
        "from google.colab import drive\n",
        "drive.mount('/content/drive')\n",
        "\n",
        "# Variaveis Glogabais\n",
        "\n",
        "#Arquivos\n",
        "raw_files_folder = '/content/drive/My Drive/dataset_deep_learning/skin_cancer/'\n",
        "local_folder_path_1 =  raw_files_folder + 'HAM10000_images_part_1/'\n",
        "local_folder_path_2 =  raw_files_folder + 'HAM10000_images_part_2/'\n",
        "\n",
        "#Nome das pastas\n",
        "train_folder_id = 'Imagens_treino'\n",
        "test_folder_id = 'Imagens_teste'\n",
        "validation_folder_id = 'Imagens_valid'\n",
        "\n",
        "#Amostras (mudar conforme seu ambiente aguenta)\n",
        "FILES_TREINO = 4001\n",
        "FILES_TESTE = 1001\n",
        "FILES_VALID = 1001\n",
        "\n",
        "#Index a serem selecionados\n",
        "FILES_FILTRAR_TREINO = int(FILES_TREINO/2)\n",
        "FILES_FILTRAR_TESTE = int(FILES_TESTE/2)\n",
        "FILES_FILTRAR_VALID = int(FILES_VALID/2)\n"
      ],
      "metadata": {
        "id": "7SInVegzQuj4",
        "colab": {
          "base_uri": "https://localhost:8080/"
        },
        "outputId": "16d4d69b-23a9-41b1-d448-38eec75940df"
      },
      "execution_count": null,
      "outputs": [
        {
          "output_type": "stream",
          "name": "stdout",
          "text": [
            "Mounted at /content/drive\n"
          ]
        }
      ]
    },
    {
      "cell_type": "markdown",
      "source": [
        "#Distribuindo arquivos entre as pastas, criar 3 pastas (treino, teste e validação) e subir as novas imagens"
      ],
      "metadata": {
        "id": "GNUis0LWTUSU"
      }
    },
    {
      "cell_type": "code",
      "source": [
        "# Listar arquivos em ambas as pastas\n",
        "files_1 = os.listdir(local_folder_path_1)\n",
        "files_2 = os.listdir(local_folder_path_2)"
      ],
      "metadata": {
        "id": "l26uiuEiQwRg"
      },
      "execution_count": null,
      "outputs": []
    },
    {
      "cell_type": "code",
      "source": [
        "# Filtrar os primeiros valores da lista para os conjuntos de treino\n",
        "train_files_part_1 = files_1[:FILES_FILTRAR_TREINO]\n",
        "train_files_part_2 = files_2[:FILES_FILTRAR_TREINO]\n",
        "\n",
        "# Filtrar os valores finais da lista para os conjuntos de validação\n",
        "validation_files_part1 = files_1[-FILES_FILTRAR_VALID:]\n",
        "validation_files_part2 = files_2[-FILES_FILTRAR_VALID:]\n",
        "\n",
        "# Calcular o índice central para os conjuntos de teste\n",
        "middle_index = len(files_1) // 2\n",
        "\n",
        "# Filtrar valores no meio da lista para os conjuntos de teste\n",
        "start_index = middle_index - FILES_FILTRAR_TESTE // 2\n",
        "end_index = middle_index + FILES_FILTRAR_TESTE // 2\n",
        "test_files_part_1 = files_1[start_index:end_index][:FILES_TESTE]\n",
        "test_files_part_2 = files_2[start_index:end_index][:FILES_TESTE]\n"
      ],
      "metadata": {
        "id": "25SwVmozQ1UU"
      },
      "execution_count": null,
      "outputs": []
    },
    {
      "cell_type": "code",
      "source": [
        "# Função para fazer upload dos arquivos para uma pasta no Google Drive\n",
        "def upload_files_to_drive(files, folder_id,folder_path):\n",
        "    for filename in files:\n",
        "        # Define o caminho completo do arquivo local\n",
        "        local_file_path = os.path.join(folder_path, filename)\n",
        "\n",
        "        # Define o caminho completo da pasta de destino no Google Drive\n",
        "        dest_folder_path = os.path.join(raw_files_folder, folder_id)\n",
        "\n",
        "        # Copia o arquivo para a pasta de destino no Google Drive\n",
        "        copyfile(local_file_path, os.path.join(dest_folder_path, filename))\n"
      ],
      "metadata": {
        "id": "iJALlxe4Q3Mo"
      },
      "execution_count": null,
      "outputs": []
    },
    {
      "cell_type": "code",
      "source": [
        "# Fazer upload das imagens para as pastas correspondentes no Google Drive\n",
        "#Arquivos de treino\n",
        "upload_files_to_drive(train_files_part_1, train_folder_id,local_folder_path_1)\n",
        "upload_files_to_drive(train_files_part_2, train_folder_id,local_folder_path_2)"
      ],
      "metadata": {
        "id": "DBCozO19Q6q3"
      },
      "execution_count": null,
      "outputs": []
    },
    {
      "cell_type": "code",
      "source": [
        "#Arquivos de teste\n",
        "upload_files_to_drive(test_files_part_1, test_folder_id,local_folder_path_1)\n",
        "upload_files_to_drive(test_files_part_2, test_folder_id,local_folder_path_2)"
      ],
      "metadata": {
        "id": "lKdcsOTRQ8dS"
      },
      "execution_count": null,
      "outputs": []
    },
    {
      "cell_type": "code",
      "source": [
        "#Arquivos de validacao\n",
        "upload_files_to_drive(validation_files_part1, validation_folder_id,local_folder_path_1)\n",
        "upload_files_to_drive(validation_files_part2, validation_folder_id,local_folder_path_2)"
      ],
      "metadata": {
        "id": "4O9GhFLXQ-ku"
      },
      "execution_count": null,
      "outputs": []
    },
    {
      "cell_type": "markdown",
      "source": [
        "#Processamento das imagens"
      ],
      "metadata": {
        "id": "JynGTn1DpFYw"
      }
    },
    {
      "cell_type": "markdown",
      "source": [
        "##Listagem das imagens"
      ],
      "metadata": {
        "id": "asTwGZkCpJYs"
      }
    },
    {
      "cell_type": "code",
      "source": [
        "#funcao para processamento das imagens em formato de array\n",
        "def process_images_from_folder(folder_path,files):\n",
        "    images = []\n",
        "    for filename in os.listdir(folder_path)[:len(files)]:\n",
        "        image_path = os.path.join(folder_path, filename)\n",
        "        image = Image.open(image_path)\n",
        "        image_array = np.array(image)\n",
        "        images.append(image_array)\n",
        "    return np.array(images)"
      ],
      "metadata": {
        "id": "9SBivW1BAb4b"
      },
      "execution_count": null,
      "outputs": []
    },
    {
      "cell_type": "code",
      "source": [
        "# Pasta no Google Drive onde estão as imagens\n",
        "train_folder  = raw_files_folder + train_folder_id\n",
        "test_folder =  raw_files_folder + test_folder_id\n",
        "validation_folder =  raw_files_folder  + validation_folder_id\n",
        "\n",
        "# Listar os arquivos nas pastas de treino, teste e validação e remover as aspas\n",
        "train_files = [os.path.splitext(file.replace('\"', ''))[0] for file in os.listdir(train_folder)[:FILES_TREINO]]\n",
        "test_files = [os.path.splitext(file.replace('\"', ''))[0] for file in os.listdir(test_folder)[:FILES_TESTE]]\n",
        "valid_files = [os.path.splitext(file.replace('\"', ''))[0] for file in os.listdir(validation_folder)[:FILES_VALID]]\n"
      ],
      "metadata": {
        "id": "_ry9YecGswTJ"
      },
      "execution_count": null,
      "outputs": []
    },
    {
      "cell_type": "markdown",
      "source": [
        "##Processamento inicial das features de treino, validação e teste"
      ],
      "metadata": {
        "id": "0rckJbZ-pOkv"
      }
    },
    {
      "cell_type": "code",
      "source": [
        "# Processar as imagens de cada pasta\n",
        "x_train = process_images_from_folder(train_folder,train_files)\n",
        "x_validation = process_images_from_folder(validation_folder,valid_files)\n",
        "x_test = process_images_from_folder(test_folder,test_files)\n"
      ],
      "metadata": {
        "id": "WUGZ9EzNst1m"
      },
      "execution_count": null,
      "outputs": []
    },
    {
      "cell_type": "markdown",
      "source": [
        "###Imagem colorida contendo mais dimensoes, conventendo para apenas 1d (features) // redimensonar para 50x50 devido ao tamanho da imagem"
      ],
      "metadata": {
        "id": "EhI_dB2dpdyU"
      }
    },
    {
      "cell_type": "code",
      "source": [
        "# Redimensionar as imagens para 50x50 pixels\n",
        "def resize_images(images):\n",
        "    resized_images = []\n",
        "    for img in images:\n",
        "        resized_img = np.array(Image.fromarray(img).resize((50, 50)))\n",
        "        resized_images.append(resized_img)\n",
        "    return np.array(resized_images)\n",
        "\n",
        "# Redimensionar as imagens de treino, validação e teste\n",
        "x_train_resized = resize_images(x_train)\n",
        "x_validation_resized = resize_images(x_validation)\n",
        "x_test_resized = resize_images(x_test)\n"
      ],
      "metadata": {
        "id": "co4ZJZMBkq3r"
      },
      "execution_count": null,
      "outputs": []
    },
    {
      "cell_type": "code",
      "source": [
        "x_train_resized.shape"
      ],
      "metadata": {
        "id": "PcFKjNBVlI4X"
      },
      "execution_count": null,
      "outputs": []
    },
    {
      "cell_type": "code",
      "source": [
        "# Achatando as imagens para um array unidimensional\n",
        "x_train_flat = x_train_resized.reshape(x_train_resized.shape[0], -1)\n",
        "x_validation_flat = x_validation_resized.reshape(x_validation_resized.shape[0], -1)\n",
        "x_test_flat = x_test_resized.reshape(x_test_resized.shape[0], -1)"
      ],
      "metadata": {
        "id": "09WO87xvljss"
      },
      "execution_count": null,
      "outputs": []
    },
    {
      "cell_type": "code",
      "source": [
        "# Criando DataFrames com os arrays unidimensionais\n",
        "df_train_pixels = pd.DataFrame(x_train_flat, columns=[f'pixel_{i}' for i in range(x_train_flat.shape[1])])\n",
        "df_validation_pixels = pd.DataFrame(x_validation_flat, columns=[f'pixel_{i}' for i in range(x_validation_flat.shape[1])])\n",
        "df_test_pixels = pd.DataFrame(x_test_flat, columns=[f'pixel_{i}' for i in range(x_test_flat.shape[1])])\n"
      ],
      "metadata": {
        "id": "O1ptYYncm8Vy"
      },
      "execution_count": null,
      "outputs": []
    },
    {
      "cell_type": "code",
      "source": [
        "# Verificando a forma dos DataFrames resultantes\n",
        "print(\"Shape do DataFrame de treino:\", df_train_pixels.shape)\n",
        "print(\"Shape do DataFrame de validação:\", df_validation_pixels.shape)\n",
        "print(\"Shape do DataFrame de teste:\", df_test_pixels.shape)"
      ],
      "metadata": {
        "id": "rUYuAUWWheZl"
      },
      "execution_count": null,
      "outputs": []
    },
    {
      "cell_type": "code",
      "source": [
        "df_train_pixels['image_id']= train_files\n",
        "df_validation_pixels['image_id']= valid_files\n",
        "df_test_pixels['image_id']= test_files"
      ],
      "metadata": {
        "id": "FB-6JGWaoH3F"
      },
      "execution_count": null,
      "outputs": []
    },
    {
      "cell_type": "markdown",
      "source": [
        "##Processamento das Labels [é cancer, não é cancer]"
      ],
      "metadata": {
        "id": "cOav4TbapWnc"
      }
    },
    {
      "cell_type": "code",
      "source": [
        "# Consumir os metadados\n",
        "dataset_path = raw_files_folder + 'HAM10000_metadata.csv'\n",
        "metadados = pd.read_csv(dataset_path)\n",
        "metadados_dx = metadados[['image_id', 'dx']].copy()\n",
        "\n",
        "# Lista de valores que indicam \"não é câncer\"\n",
        "nao_cancer = ['akiec', 'nv', 'bkl']\n",
        "\n",
        "####'akiec': Queratose actínica / Carcinoma intraepitelial escamoso de células escamosas (CIECE)\n",
        "####'nv': Nevo melanocítico\n",
        "####'bkl': Lesão benigna da queratose (Benign keratosis-like lesions)\n",
        "\n",
        "# Criar a nova coluna \"dx_rede\" com a regra de cancer e não cancer\n",
        "metadados_dx['dx_rede'] = metadados_dx['dx'].copy().apply(lambda x: 'não é câncer' if x in nao_cancer else 'é câncer')\n",
        "\n",
        "df_target = metadados_dx[['image_id','dx_rede']].copy()"
      ],
      "metadata": {
        "id": "BuDEsXIMxl2a"
      },
      "execution_count": null,
      "outputs": []
    },
    {
      "cell_type": "markdown",
      "source": [
        "###Criação das Labels de arquivo com os arquivos das pastas de treino e teste"
      ],
      "metadata": {
        "id": "JBSdToMRppKg"
      }
    },
    {
      "cell_type": "code",
      "source": [
        "# Filtrar o DataFrame para cada conjunto\n",
        "df_train_filtered = df_target[df_target['image_id'].isin(train_files)]\n",
        "df_test_filtered = df_target[df_target['image_id'].isin(test_files)]\n",
        "df_valid_filtered = df_target[df_target['image_id'].isin(valid_files)]"
      ],
      "metadata": {
        "id": "-6Piu_QGl6yU"
      },
      "execution_count": null,
      "outputs": []
    },
    {
      "cell_type": "code",
      "source": [
        "# Garantir que os IDs das imagens estão no mesmo formato em ambos os DataFrames\n",
        "df_train_filtered['image_id'] = df_train_filtered['image_id'].copy().apply(lambda x: os.path.splitext(x)[0])\n",
        "df_valid_filtered['image_id'] = df_valid_filtered['image_id'].copy().apply(lambda x: os.path.splitext(x)[0])\n",
        "df_test_filtered['image_id'] = df_test_filtered['image_id'].copy().apply(lambda x: os.path.splitext(x)[0])\n"
      ],
      "metadata": {
        "id": "-Dz0Z16Vlloc"
      },
      "execution_count": null,
      "outputs": []
    },
    {
      "cell_type": "markdown",
      "source": [
        "###Criação do dataset processado com as imagens e labels definindo por imagem o que é cancerigeno e o que não é"
      ],
      "metadata": {
        "id": "sM16bxXZp6La"
      }
    },
    {
      "cell_type": "code",
      "source": [
        "# Unir os DataFrames de pixels com os DataFrames de metadados usando a coluna 'image_id'\n",
        "df_train_merged = pd.merge(df_train_pixels, df_train_filtered, on='image_id')\n",
        "df_validation_merged = pd.merge(df_validation_pixels, df_valid_filtered, on='image_id')\n",
        "df_test_merged = pd.merge(df_test_pixels, df_test_filtered, on='image_id')\n",
        "\n",
        "df_train_true = df_train_merged.drop('image_id',axis = 1)\n",
        "df_test_true = df_test_merged.drop('image_id',axis = 1)\n",
        "df_validation_true = df_validation_merged.drop('image_id',axis = 1)"
      ],
      "metadata": {
        "id": "ltz3XAEMbYC8"
      },
      "execution_count": null,
      "outputs": []
    },
    {
      "cell_type": "code",
      "source": [
        "#Mudar nome de coluna de \"dx_rede\" para \"label\"\n",
        "df_train_true.rename(columns={'dx_rede': 'label'}, inplace=True)\n",
        "df_test_true.rename(columns={'dx_rede': 'label'}, inplace=True)\n",
        "df_validation_true.rename(columns={'dx_rede': 'label'}, inplace=True)"
      ],
      "metadata": {
        "id": "8cMu3WaXoROq"
      },
      "execution_count": null,
      "outputs": []
    },
    {
      "cell_type": "code",
      "source": [
        "df_train_true.head()"
      ],
      "metadata": {
        "id": "HAaKbqE4ms_P"
      },
      "execution_count": null,
      "outputs": []
    },
    {
      "cell_type": "code",
      "source": [
        "df_test_true.head()"
      ],
      "metadata": {
        "id": "YTQVqeSjs5XB"
      },
      "execution_count": null,
      "outputs": []
    },
    {
      "cell_type": "code",
      "source": [
        "df_validation_true.head()"
      ],
      "metadata": {
        "id": "4jQVW3Aqs7KH"
      },
      "execution_count": null,
      "outputs": []
    },
    {
      "cell_type": "code",
      "source": [
        "df_train_true.shape"
      ],
      "metadata": {
        "id": "gGcEecOqgC9f"
      },
      "execution_count": null,
      "outputs": []
    },
    {
      "cell_type": "code",
      "source": [
        "df_test_true.shape"
      ],
      "metadata": {
        "id": "LomZ3QuWoxNJ"
      },
      "execution_count": null,
      "outputs": []
    },
    {
      "cell_type": "code",
      "source": [
        "df_validation_true.shape"
      ],
      "metadata": {
        "id": "e9-UJVTlo1y3"
      },
      "execution_count": null,
      "outputs": []
    },
    {
      "cell_type": "code",
      "source": [
        "len(df_train_true['label'].unique())"
      ],
      "metadata": {
        "id": "dOxZyQ7kxQmI"
      },
      "execution_count": null,
      "outputs": []
    },
    {
      "cell_type": "code",
      "source": [
        "(df_train_true['label'].unique())"
      ],
      "metadata": {
        "id": "K6zuf1aKxgFK"
      },
      "execution_count": null,
      "outputs": []
    },
    {
      "cell_type": "markdown",
      "source": [
        "# Normalização do dataset e mapeamento do target (num_class)"
      ],
      "metadata": {
        "id": "595jW2oApoML"
      }
    },
    {
      "cell_type": "code",
      "source": [
        "# Fazer mapping para trocar string por numeros\n",
        "label_dict = {'é câncer':1,'não é câncer':0}\n",
        "\n",
        "df_train_true_label = df_train_true.copy()\n",
        "df_train_true_label['label'] = df_train_true_label['label'].map(label_dict)\n",
        "\n",
        "df_test_true_label = df_test_true.copy()\n",
        "df_test_true_label['label'] = df_test_true_label['label'].map(label_dict)\n",
        "\n",
        "df_validation_true_label = df_validation_true.copy()\n",
        "df_validation_true_label['label'] = df_validation_true_label['label'].map(label_dict)\n"
      ],
      "metadata": {
        "id": "87N7LI-4yCXu"
      },
      "execution_count": null,
      "outputs": []
    },
    {
      "cell_type": "code",
      "source": [
        " set(df_train_true_label['label'])"
      ],
      "metadata": {
        "id": "6bUPFJfryIF4"
      },
      "execution_count": null,
      "outputs": []
    },
    {
      "cell_type": "code",
      "source": [
        "# Obter as classes únicas do conjunto de dados\n",
        "classes = set(df_train_true_label['label'])\n",
        "\n",
        "plt.figure(0, figsize=(20,10))\n",
        "\n",
        "# Iterar sobre cada classe\n",
        "for c in classes:\n",
        "    idx = np.where(df_train_true_label['label'] == c)\n",
        "    if c + 1 == 10:\n",
        "        break\n",
        "    plt.subplot(430 + 1 +c)\n",
        "    plt.imshow(df_train_true_label.drop('label', axis=1).iloc[idx[0][0]].values.reshape((50, 50, 3)))\n",
        "    plt.text(0, 0, f'Class: {c}', color='white', backgroundcolor='black', fontsize=8)\n",
        "\n",
        "plt.show()\n"
      ],
      "metadata": {
        "id": "raw25QGowYZN"
      },
      "execution_count": null,
      "outputs": []
    },
    {
      "cell_type": "markdown",
      "source": [],
      "metadata": {
        "id": "U8mvBRNtXrf6"
      }
    },
    {
      "cell_type": "markdown",
      "source": [
        "# Normalização do dataset e mapeamento do target (num_class)"
      ],
      "metadata": {
        "id": "U4S2GhfaJMnh"
      }
    },
    {
      "cell_type": "code",
      "source": [
        "\n",
        "#Extração dos dfs de treino,teste e valição e suas respectivas labels\n",
        "x_train = df_train_true_label.drop('label',axis=1).values\n",
        "y_train = df_train_true_label['label'].values\n",
        "\n",
        "x_test = df_test_true_label.drop('label',axis=1).values\n",
        "y_test = df_test_true_label['label'].values\n",
        "\n",
        "x_valid = df_validation_true_label.drop('label',axis=1).values\n",
        "y_valid = df_validation_true_label['label'].values\n"
      ],
      "metadata": {
        "id": "mVhLVBySpzCn"
      },
      "execution_count": null,
      "outputs": []
    },
    {
      "cell_type": "code",
      "source": [
        "#Normalização das features, colocando-as entre 0 e 1\n",
        "x_train = x_train.astype('float32') / 255\n",
        "x_test = x_test.astype('float32') / 255\n",
        "x_valid = x_valid.astype('float32') / 255"
      ],
      "metadata": {
        "id": "aTKsG4Dt7Zsl"
      },
      "execution_count": null,
      "outputs": []
    },
    {
      "cell_type": "code",
      "source": [
        "x_train"
      ],
      "metadata": {
        "id": "nlsMvc_A7uPg"
      },
      "execution_count": null,
      "outputs": []
    },
    {
      "cell_type": "code",
      "source": [
        "x_test"
      ],
      "metadata": {
        "id": "Nx8ECqpl7wEH"
      },
      "execution_count": null,
      "outputs": []
    },
    {
      "cell_type": "code",
      "source": [
        "x_valid"
      ],
      "metadata": {
        "id": "h7XLVBiX7xfJ"
      },
      "execution_count": null,
      "outputs": []
    },
    {
      "cell_type": "code",
      "source": [
        "# Número de pixels por imagem\n",
        "num_pixels = 7500  # Ou seja, 50x50x3\n",
        "\n",
        "# Redimensionar os dados para tensores 3D\n",
        "x_train_3d = x_train.reshape(x_train.shape[0],50, 50, 3)\n",
        "x_test_3d = x_test.reshape(x_test.shape[0], 50, 50, 3)\n",
        "x_valid_3d = x_valid.reshape(x_valid.shape[0], 50, 50, 3)\n"
      ],
      "metadata": {
        "id": "36ah09LbTm1P"
      },
      "execution_count": null,
      "outputs": []
    },
    {
      "cell_type": "code",
      "source": [
        "x_train.shape[0]"
      ],
      "metadata": {
        "id": "CF4n7aSXUMOa"
      },
      "execution_count": null,
      "outputs": []
    },
    {
      "cell_type": "code",
      "source": [
        "x_valid.shape[0]"
      ],
      "metadata": {
        "id": "jJSqc4vWUERK"
      },
      "execution_count": null,
      "outputs": []
    },
    {
      "cell_type": "code",
      "source": [
        "x_test.shape[0]"
      ],
      "metadata": {
        "id": "DzbzYL6VUJ_K"
      },
      "execution_count": null,
      "outputs": []
    },
    {
      "cell_type": "code",
      "source": [
        "# Convertendo os rótulos verdadeiros para codificação one-hot\n",
        "y_train_one_hot = to_categorical(y_train, len(classes))\n",
        "y_test_one_hot = to_categorical(y_test, len(classes))\n",
        "y_valid_one_hot = to_categorical(y_valid, len(classes))"
      ],
      "metadata": {
        "id": "4fVRvXQs60PX"
      },
      "execution_count": null,
      "outputs": []
    },
    {
      "cell_type": "code",
      "source": [
        "len(y_valid_one_hot)"
      ],
      "metadata": {
        "id": "X_JK1XcS77cs"
      },
      "execution_count": null,
      "outputs": []
    },
    {
      "cell_type": "markdown",
      "source": [
        "# Arquitetura da Rede Neural e Treino"
      ],
      "metadata": {
        "id": "DUuUAvZKqHx0"
      }
    },
    {
      "cell_type": "code",
      "source": [
        "from keras.models import Sequential\n",
        "from keras.layers import Conv2D, AveragePooling2D, Flatten, Dense\n",
        "model = Sequential()\n",
        "\n",
        "# Camadas\n",
        "model.add(Conv2D(6, kernel_size=(5, 5), activation='relu', input_shape=(50, 50, 3)))\n",
        "model.add(AveragePooling2D(pool_size=(2, 2)))\n",
        "model.add(Conv2D(16, kernel_size=(5, 5), activation='relu'))\n",
        "model.add(AveragePooling2D(pool_size=(2, 2)))\n",
        "\n",
        "# Camada Flatten para transformar os mapas de características em um vetor unidimensional\n",
        "model.add(Flatten())\n",
        "\n",
        "model.add(Dense(120, activation='relu'))\n",
        "\n",
        "model.add(Dense(84, activation='relu'))\n",
        "\n",
        "# Camada de saída com ativação softmax para classificação multiclasse\n",
        "model.add(Dense(2, activation='softmax'))"
      ],
      "metadata": {
        "id": "8-eR1jIeClVN"
      },
      "execution_count": null,
      "outputs": []
    },
    {
      "cell_type": "code",
      "source": [
        "from keras.utils import plot_model\n",
        "# Plotar o modelo\n",
        "plot_model(model, to_file='cnn-CHEST_X_RAY.png', show_shapes=True, show_layer_names=True)\n"
      ],
      "metadata": {
        "id": "bddOuGhmN9g1"
      },
      "execution_count": null,
      "outputs": []
    },
    {
      "cell_type": "code",
      "source": [
        "model.summary()"
      ],
      "metadata": {
        "id": "cHHE_fFYOKyy"
      },
      "execution_count": null,
      "outputs": []
    },
    {
      "cell_type": "code",
      "source": [
        "model.compile(loss='categorical_crossentropy', optimizer='adam', metrics=['accuracy'])\n"
      ],
      "metadata": {
        "id": "VqSKX3RvOOVG"
      },
      "execution_count": null,
      "outputs": []
    },
    {
      "cell_type": "code",
      "source": [
        "from keras.callbacks import ModelCheckpoint"
      ],
      "metadata": {
        "id": "dsj_XP9JOW_b"
      },
      "execution_count": null,
      "outputs": []
    },
    {
      "cell_type": "code",
      "source": [
        "checkpointer = ModelCheckpoint(filepath='/content/drive/My Drive/modelos/CHEST_X_RAY.hdf5', verbose=1,  save_best_only=True, monitor='val_accuracy') #\n",
        "\n",
        "hist = model.fit(x_train_3d, y_train_one_hot, batch_size=200, epochs=5, validation_data=(x_valid_3d, y_valid_one_hot), callbacks=[checkpointer], verbose=1, shuffle=True)"
      ],
      "metadata": {
        "id": "QHuKOOGIOYxC"
      },
      "execution_count": null,
      "outputs": []
    },
    {
      "cell_type": "markdown",
      "source": [
        "# Mostrar os resultados"
      ],
      "metadata": {
        "id": "wjhPzHJos93R"
      }
    },
    {
      "cell_type": "code",
      "source": [
        "model = load_model(\"/content/drive/My Drive/modelos/CHEST_X_RAY.hdf5\")"
      ],
      "metadata": {
        "id": "Zo8gVA1YYauI"
      },
      "execution_count": null,
      "outputs": []
    },
    {
      "cell_type": "code",
      "source": [
        "score = model.evaluate(x_test_3d, y_test_one_hot, verbose=0)\n",
        "print('\\n', 'Test accuracy:', score[1])"
      ],
      "metadata": {
        "id": "neSlwlQCYfOJ"
      },
      "execution_count": null,
      "outputs": []
    },
    {
      "cell_type": "code",
      "source": [
        "y_pred = model.predict(x_test_3d)"
      ],
      "metadata": {
        "id": "ZgHNceT_Yh_A"
      },
      "execution_count": null,
      "outputs": []
    },
    {
      "cell_type": "code",
      "source": [
        "len(y_pred)"
      ],
      "metadata": {
        "id": "Gwtz4J_ifdOL"
      },
      "execution_count": null,
      "outputs": []
    },
    {
      "cell_type": "code",
      "source": [
        "y_test_one_hot"
      ],
      "metadata": {
        "id": "ihkoMFTWfisp"
      },
      "execution_count": null,
      "outputs": []
    },
    {
      "cell_type": "code",
      "source": [
        "y_pred"
      ],
      "metadata": {
        "id": "kQvUeLhDcjGX"
      },
      "execution_count": null,
      "outputs": []
    },
    {
      "cell_type": "code",
      "source": [
        "# Definir labels\n",
        "labels = ['not cancer', 'cancer']\n",
        "\n",
        "# Criar figure\n",
        "fig = plt.figure(figsize=(20, 10))\n",
        "\n",
        "# Iterate over random samples\n",
        "for i, idx in enumerate(np.random.choice(x_test_3d.shape[0], size=32, replace=False)):\n",
        "    # Add subplot\n",
        "    ax = fig.add_subplot(4, 8, i + 1, xticks=[], yticks=[])\n",
        "\n",
        "    # Mostrar imagem\n",
        "    ax.imshow(np.squeeze(x_test_3d[idx]))\n",
        "\n",
        "    # Indices do valor pred e base\n",
        "    pred_idx = np.argmax(y_pred[idx])\n",
        "    true_idx = np.argmax(y_test[idx])\n",
        "\n",
        "    # Setar titulo com indicação de cor\n",
        "    title_text = \"{} ({})\".format(labels[pred_idx], labels[true_idx])\n",
        "    title_color = \"green\" if pred_idx == true_idx else \"red\"\n",
        "    ax.set_title(title_text, color=title_color, fontsize=12, fontweight='bold')\n",
        "\n",
        "# Ajustar layout\n",
        "plt.tight_layout()\n",
        "\n",
        "# Adicionar legenda\n",
        "legend_elements = [plt.Line2D([0], [0], marker='o', color='w', label='Correcto',\n",
        "                               markerfacecolor='green', markersize=10),\n",
        "                   plt.Line2D([0], [0], marker='o', color='w', label='Errado',\n",
        "                               markerfacecolor='red', markersize=10)]\n",
        "plt.legend(handles=legend_elements, loc='upper right', fontsize=12)\n",
        "\n",
        "# Mostrar plot\n",
        "plt.show()"
      ],
      "metadata": {
        "id": "Om80WJBre0OT"
      },
      "execution_count": null,
      "outputs": []
    }
  ]
}